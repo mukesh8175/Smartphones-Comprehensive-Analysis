{
 "cells": [
  {
   "cell_type": "code",
   "execution_count": 23,
   "metadata": {},
   "outputs": [],
   "source": [
    "import requests\n",
    "from bs4 import BeautifulSoup\n",
    "import pandas as pd"
   ]
  },
  {
   "cell_type": "code",
   "execution_count": 2,
   "metadata": {},
   "outputs": [],
   "source": [
    "url=\"https://webscraper.io/test-sites/e-commerce/allinone/phones/touch\"\n",
    "r=requests.get(url)\n",
    "soup=BeautifulSoup(r.text,\"lxml\")"
   ]
  },
  {
   "cell_type": "code",
   "execution_count": 3,
   "metadata": {},
   "outputs": [
    {
     "name": "stdout",
     "output_type": "stream",
     "text": [
      "$24.99\n"
     ]
    }
   ],
   "source": [
    "#scrap product price\n",
    "price=soup.find(\"h4\",class_=\"price float-end card-title pull-right\")\n",
    "print(price.text)"
   ]
  },
  {
   "cell_type": "code",
   "execution_count": 6,
   "metadata": {},
   "outputs": [
    {
     "name": "stdout",
     "output_type": "stream",
     "text": [
      "[<h4 class=\"price float-end card-title pull-right\">$24.99</h4>, <h4 class=\"price float-end card-title pull-right\">$57.99</h4>, <h4 class=\"price float-end card-title pull-right\">$93.99</h4>, <h4 class=\"price float-end card-title pull-right\">$109.99</h4>, <h4 class=\"price float-end card-title pull-right\">$118.99</h4>, <h4 class=\"price float-end card-title pull-right\">$499.99</h4>, <h4 class=\"price float-end card-title pull-right\">$899.99</h4>, <h4 class=\"price float-end card-title pull-right\">$899.99</h4>, <h4 class=\"price float-end card-title pull-right\">$899.99</h4>]\n"
     ]
    }
   ],
   "source": [
    "all_price=soup.find_all(\"h4\",class_=\"price float-end card-title pull-right\")\n",
    "print(all_price)"
   ]
  },
  {
   "cell_type": "code",
   "execution_count": 7,
   "metadata": {},
   "outputs": [
    {
     "name": "stdout",
     "output_type": "stream",
     "text": [
      "$24.99\n",
      "$57.99\n",
      "$93.99\n",
      "$109.99\n",
      "$118.99\n",
      "$499.99\n",
      "$899.99\n",
      "$899.99\n",
      "$899.99\n"
     ]
    }
   ],
   "source": [
    "for i in all_price:\n",
    "    print(i.text)"
   ]
  },
  {
   "cell_type": "code",
   "execution_count": 8,
   "metadata": {},
   "outputs": [
    {
     "name": "stdout",
     "output_type": "stream",
     "text": [
      "['$24.99', '$57.99', '$93.99', '$109.99', '$118.99', '$499.99', '$899.99', '$899.99', '$899.99']\n"
     ]
    }
   ],
   "source": [
    "pricelist=[]\n",
    "for i in all_price:\n",
    "    pricelist.append(i.text)\n",
    "\n",
    "print(pricelist)"
   ]
  },
  {
   "cell_type": "code",
   "execution_count": 17,
   "metadata": {},
   "outputs": [
    {
     "name": "stdout",
     "output_type": "stream",
     "text": [
      "['Nokia 123', 'LG Optimus', 'Samsung Galaxy', 'Nokia X', 'Sony Xperia', 'Ubuntu Edge', 'Iphone', 'Iphone', 'Iphone']\n"
     ]
    }
   ],
   "source": [
    "Name=[]\n",
    "name=soup.find_all(\"a\",class_=\"title\")\n",
    "for i in name:\n",
    "    Name.append(i.text)\n",
    "print(Name)"
   ]
  },
  {
   "cell_type": "code",
   "execution_count": 22,
   "metadata": {},
   "outputs": [
    {
     "name": "stdout",
     "output_type": "stream",
     "text": [
      "['11 reviews', '11 reviews', '3 reviews', '4 reviews', '6 reviews', '2 reviews', '10 reviews', '8 reviews', '1 reviews']\n"
     ]
    }
   ],
   "source": [
    "Review=[]\n",
    "review=soup.find_all(\"p\",class_=\"review-count float-end\")\n",
    "for i in review:\n",
    "    Review.append(i.text)\n",
    "print(Review)\n"
   ]
  },
  {
   "cell_type": "code",
   "execution_count": 21,
   "metadata": {},
   "outputs": [
    {
     "name": "stdout",
     "output_type": "stream",
     "text": [
      "['7 day battery', '3.2\" screen', '5 mpx. Android 5.0', 'Andoid, Jolla dualboot', 'GPS, waterproof', 'Sapphire glass', 'White', 'Silver', 'Black']\n"
     ]
    }
   ],
   "source": [
    "description=[]\n",
    "desc=soup.find_all(\"p\",class_=\"description card-text\")\n",
    "for i in desc:\n",
    "    description.append(i.text)\n",
    "print(description)"
   ]
  },
  {
   "cell_type": "code",
   "execution_count": 26,
   "metadata": {},
   "outputs": [
    {
     "data": {
      "text/html": [
       "<div>\n",
       "<style scoped>\n",
       "    .dataframe tbody tr th:only-of-type {\n",
       "        vertical-align: middle;\n",
       "    }\n",
       "\n",
       "    .dataframe tbody tr th {\n",
       "        vertical-align: top;\n",
       "    }\n",
       "\n",
       "    .dataframe thead th {\n",
       "        text-align: right;\n",
       "    }\n",
       "</style>\n",
       "<table border=\"1\" class=\"dataframe\">\n",
       "  <thead>\n",
       "    <tr style=\"text-align: right;\">\n",
       "      <th></th>\n",
       "      <th>Name</th>\n",
       "      <th>Price</th>\n",
       "      <th>Review</th>\n",
       "      <th>Discription</th>\n",
       "    </tr>\n",
       "  </thead>\n",
       "  <tbody>\n",
       "    <tr>\n",
       "      <th>0</th>\n",
       "      <td>Nokia 123</td>\n",
       "      <td>$24.99</td>\n",
       "      <td>11 reviews</td>\n",
       "      <td>7 day battery</td>\n",
       "    </tr>\n",
       "    <tr>\n",
       "      <th>1</th>\n",
       "      <td>LG Optimus</td>\n",
       "      <td>$57.99</td>\n",
       "      <td>11 reviews</td>\n",
       "      <td>3.2\" screen</td>\n",
       "    </tr>\n",
       "    <tr>\n",
       "      <th>2</th>\n",
       "      <td>Samsung Galaxy</td>\n",
       "      <td>$93.99</td>\n",
       "      <td>3 reviews</td>\n",
       "      <td>5 mpx. Android 5.0</td>\n",
       "    </tr>\n",
       "    <tr>\n",
       "      <th>3</th>\n",
       "      <td>Nokia X</td>\n",
       "      <td>$109.99</td>\n",
       "      <td>4 reviews</td>\n",
       "      <td>Andoid, Jolla dualboot</td>\n",
       "    </tr>\n",
       "    <tr>\n",
       "      <th>4</th>\n",
       "      <td>Sony Xperia</td>\n",
       "      <td>$118.99</td>\n",
       "      <td>6 reviews</td>\n",
       "      <td>GPS, waterproof</td>\n",
       "    </tr>\n",
       "    <tr>\n",
       "      <th>5</th>\n",
       "      <td>Ubuntu Edge</td>\n",
       "      <td>$499.99</td>\n",
       "      <td>2 reviews</td>\n",
       "      <td>Sapphire glass</td>\n",
       "    </tr>\n",
       "    <tr>\n",
       "      <th>6</th>\n",
       "      <td>Iphone</td>\n",
       "      <td>$899.99</td>\n",
       "      <td>10 reviews</td>\n",
       "      <td>White</td>\n",
       "    </tr>\n",
       "    <tr>\n",
       "      <th>7</th>\n",
       "      <td>Iphone</td>\n",
       "      <td>$899.99</td>\n",
       "      <td>8 reviews</td>\n",
       "      <td>Silver</td>\n",
       "    </tr>\n",
       "    <tr>\n",
       "      <th>8</th>\n",
       "      <td>Iphone</td>\n",
       "      <td>$899.99</td>\n",
       "      <td>1 reviews</td>\n",
       "      <td>Black</td>\n",
       "    </tr>\n",
       "  </tbody>\n",
       "</table>\n",
       "</div>"
      ],
      "text/plain": [
       "             Name    Price      Review             Discription\n",
       "0       Nokia 123   $24.99  11 reviews           7 day battery\n",
       "1      LG Optimus   $57.99  11 reviews             3.2\" screen\n",
       "2  Samsung Galaxy   $93.99   3 reviews      5 mpx. Android 5.0\n",
       "3         Nokia X  $109.99   4 reviews  Andoid, Jolla dualboot\n",
       "4     Sony Xperia  $118.99   6 reviews         GPS, waterproof\n",
       "5     Ubuntu Edge  $499.99   2 reviews          Sapphire glass\n",
       "6          Iphone  $899.99  10 reviews                   White\n",
       "7          Iphone  $899.99   8 reviews                  Silver\n",
       "8          Iphone  $899.99   1 reviews                   Black"
      ]
     },
     "execution_count": 26,
     "metadata": {},
     "output_type": "execute_result"
    }
   ],
   "source": [
    "# TO CREATE DATAFRAME\n",
    "df=pd.DataFrame({\"Name\":Name,\"Price\":pricelist,\"Review\":Review,\"Discription\":description})\n",
    "df"
   ]
  },
  {
   "cell_type": "code",
   "execution_count": 27,
   "metadata": {},
   "outputs": [],
   "source": [
    "df.to_csv(\"product_details.csv\")"
   ]
  },
  {
   "cell_type": "code",
   "execution_count": null,
   "metadata": {},
   "outputs": [],
   "source": []
  }
 ],
 "metadata": {
  "kernelspec": {
   "display_name": "Python 3",
   "language": "python",
   "name": "python3"
  },
  "language_info": {
   "codemirror_mode": {
    "name": "ipython",
    "version": 3
   },
   "file_extension": ".py",
   "mimetype": "text/x-python",
   "name": "python",
   "nbconvert_exporter": "python",
   "pygments_lexer": "ipython3",
   "version": "3.12.1"
  }
 },
 "nbformat": 4,
 "nbformat_minor": 2
}
